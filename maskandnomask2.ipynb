{
 "cells": [
  {
   "cell_type": "code",
   "execution_count": 1,
   "id": "59241102",
   "metadata": {},
   "outputs": [
    {
     "name": "stdout",
     "output_type": "stream",
     "text": [
      "WARNING:tensorflow:From C:\\Users\\Anjaney Deshpande\\anaconda3\\Lib\\site-packages\\keras\\src\\losses.py:2976: The name tf.losses.sparse_softmax_cross_entropy is deprecated. Please use tf.compat.v1.losses.sparse_softmax_cross_entropy instead.\n",
      "\n"
     ]
    }
   ],
   "source": [
    "import pandas as pd \n",
    "import tensorflow as tf\n",
    "import keras\n",
    "import matplotlib.pyplot as plt\n",
    "import seaborn as sns\n",
    "import numpy as np\n",
    "import cv2"
   ]
  },
  {
   "cell_type": "code",
   "execution_count": 2,
   "id": "3cacff08",
   "metadata": {},
   "outputs": [],
   "source": [
    "from keras.models import Sequential\n",
    "from keras.layers import Conv2D,MaxPool2D,Dense,Dropout\n",
    "from tensorflow.keras.utils import to_categorical\n",
    "import numpy as np\n",
    "import cv2 \n",
    "import os \n",
    "import matplotlib.pyplot as plt "
   ]
  },
  {
   "cell_type": "code",
   "execution_count": 3,
   "id": "4b925269",
   "metadata": {},
   "outputs": [],
   "source": [
    "path1=r\"C:\\Users\\Anjaney Deshpande\\Desktop\\mask_no_mask2\"\n",
    "cate=['with_mask','without_mask']"
   ]
  },
  {
   "cell_type": "code",
   "execution_count": 4,
   "id": "9ca7919b",
   "metadata": {},
   "outputs": [],
   "source": [
    "input_image=[]\n",
    "image_size=200\n",
    "for i in cate:\n",
    "    folders=os.path.join(path1,i)\n",
    "    label=cate.index(i) # to tell software which image is cat and dog\n",
    "    for image in os.listdir(folders):\n",
    "        image_path=os.path.join(folders,image)\n",
    "        image_array=cv2.imread(image_path) # use cv2 to read and store image\n",
    "        image_array=cv2.resize(image_array,(image_size,image_size))\n",
    "        input_image.append([image_array,label])\n",
    "    \n",
    "    \n",
    "    "
   ]
  },
  {
   "cell_type": "code",
   "execution_count": 5,
   "id": "a1f93ac1",
   "metadata": {},
   "outputs": [
    {
     "data": {
      "text/plain": [
       "7553"
      ]
     },
     "execution_count": 5,
     "metadata": {},
     "output_type": "execute_result"
    }
   ],
   "source": [
    "len(input_image)"
   ]
  },
  {
   "cell_type": "code",
   "execution_count": 6,
   "id": "839177ab",
   "metadata": {},
   "outputs": [],
   "source": [
    "X=[]\n",
    "Y=[]\n",
    "# separating x i.e pixels and labels will extract y separate\n",
    "for X_values,labels in input_image:\n",
    "    X.append(X_values)\n",
    "    Y.append(labels)"
   ]
  },
  {
   "cell_type": "code",
   "execution_count": 7,
   "id": "d21cd572",
   "metadata": {},
   "outputs": [],
   "source": [
    "X=np.array(X)\n",
    "Y=np.array(Y)"
   ]
  },
  {
   "cell_type": "code",
   "execution_count": 8,
   "id": "239815ce",
   "metadata": {},
   "outputs": [],
   "source": [
    "X=X/255"
   ]
  },
  {
   "cell_type": "code",
   "execution_count": 9,
   "id": "ebf4e6cd",
   "metadata": {},
   "outputs": [],
   "source": [
    "from sklearn.model_selection import train_test_split\n"
   ]
  },
  {
   "cell_type": "code",
   "execution_count": 10,
   "id": "7b62e5bb",
   "metadata": {},
   "outputs": [],
   "source": [
    "x_train,x_test,y_train,y_test= train_test_split(X,Y,test_size=0.2)"
   ]
  },
  {
   "cell_type": "code",
   "execution_count": 11,
   "id": "570f3710",
   "metadata": {},
   "outputs": [
    {
     "name": "stdout",
     "output_type": "stream",
     "text": [
      "WARNING:tensorflow:From C:\\Users\\Anjaney Deshpande\\anaconda3\\Lib\\site-packages\\keras\\src\\backend.py:873: The name tf.get_default_graph is deprecated. Please use tf.compat.v1.get_default_graph instead.\n",
      "\n",
      "WARNING:tensorflow:From C:\\Users\\Anjaney Deshpande\\anaconda3\\Lib\\site-packages\\keras\\src\\layers\\pooling\\max_pooling2d.py:161: The name tf.nn.max_pool is deprecated. Please use tf.nn.max_pool2d instead.\n",
      "\n"
     ]
    }
   ],
   "source": [
    "from keras.models import Sequential\n",
    "from keras.layers import Conv2D, MaxPool2D, Flatten, Dense, Dropout\n",
    "model = Sequential()\n",
    "model.add(Conv2D(filters=32, kernel_size=(3,3), activation='relu'))\n",
    "model.add(MaxPool2D(pool_size=(2, 2)))\n",
    "\n",
    "model.add(Conv2D(filters=32, kernel_size=(3, 3), activation='relu'))\n",
    "model.add(MaxPool2D(pool_size=(2, 2)))\n",
    "model.add(Flatten())  \n",
    "model.add(Dense(128, activation='relu', input_shape = X.shape[1:]))\n",
    "\n",
    "model.add(Dense(2,activation='softmax'))"
   ]
  },
  {
   "cell_type": "code",
   "execution_count": 12,
   "id": "6d83e263",
   "metadata": {},
   "outputs": [
    {
     "name": "stdout",
     "output_type": "stream",
     "text": [
      "WARNING:tensorflow:From C:\\Users\\Anjaney Deshpande\\anaconda3\\Lib\\site-packages\\keras\\src\\optimizers\\__init__.py:309: The name tf.train.Optimizer is deprecated. Please use tf.compat.v1.train.Optimizer instead.\n",
      "\n"
     ]
    }
   ],
   "source": [
    "\n",
    "model.compile(optimizer='adam',loss='sparse_categorical_crossentropy',metrics=['accuracy'])"
   ]
  },
  {
   "cell_type": "code",
   "execution_count": 13,
   "id": "71243444",
   "metadata": {},
   "outputs": [
    {
     "name": "stdout",
     "output_type": "stream",
     "text": [
      "Epoch 1/20\n",
      "WARNING:tensorflow:From C:\\Users\\Anjaney Deshpande\\anaconda3\\Lib\\site-packages\\keras\\src\\utils\\tf_utils.py:492: The name tf.ragged.RaggedTensorValue is deprecated. Please use tf.compat.v1.ragged.RaggedTensorValue instead.\n",
      "\n",
      "WARNING:tensorflow:From C:\\Users\\Anjaney Deshpande\\anaconda3\\Lib\\site-packages\\keras\\src\\engine\\base_layer_utils.py:384: The name tf.executing_eagerly_outside_functions is deprecated. Please use tf.compat.v1.executing_eagerly_outside_functions instead.\n",
      "\n",
      "76/76 [==============================] - 34s 408ms/step - loss: 0.8467 - accuracy: 0.7716 - val_loss: 0.2997 - val_accuracy: 0.8817\n",
      "Epoch 2/20\n",
      "76/76 [==============================] - 28s 365ms/step - loss: 0.2753 - accuracy: 0.8930 - val_loss: 0.2483 - val_accuracy: 0.9016\n",
      "Epoch 3/20\n",
      "76/76 [==============================] - 28s 367ms/step - loss: 0.1962 - accuracy: 0.9307 - val_loss: 0.2412 - val_accuracy: 0.9098\n",
      "Epoch 4/20\n",
      "76/76 [==============================] - 28s 366ms/step - loss: 0.1373 - accuracy: 0.9520 - val_loss: 0.2520 - val_accuracy: 0.8999\n",
      "Epoch 5/20\n",
      "76/76 [==============================] - 28s 363ms/step - loss: 0.0981 - accuracy: 0.9683 - val_loss: 0.2400 - val_accuracy: 0.9156\n",
      "Epoch 6/20\n",
      "76/76 [==============================] - 27s 360ms/step - loss: 0.0861 - accuracy: 0.9704 - val_loss: 0.2579 - val_accuracy: 0.9107\n",
      "Epoch 7/20\n",
      "76/76 [==============================] - 27s 354ms/step - loss: 0.0597 - accuracy: 0.9808 - val_loss: 0.2974 - val_accuracy: 0.9165\n",
      "Epoch 8/20\n",
      "76/76 [==============================] - 27s 360ms/step - loss: 0.0413 - accuracy: 0.9851 - val_loss: 0.3185 - val_accuracy: 0.9173\n",
      "Epoch 9/20\n",
      "76/76 [==============================] - 27s 356ms/step - loss: 0.0326 - accuracy: 0.9903 - val_loss: 0.3429 - val_accuracy: 0.9115\n",
      "Epoch 10/20\n",
      "76/76 [==============================] - 27s 356ms/step - loss: 0.0166 - accuracy: 0.9959 - val_loss: 0.3347 - val_accuracy: 0.9198\n",
      "Epoch 11/20\n",
      "76/76 [==============================] - 27s 357ms/step - loss: 0.0102 - accuracy: 0.9977 - val_loss: 0.4339 - val_accuracy: 0.9016\n",
      "Epoch 12/20\n",
      "76/76 [==============================] - 27s 355ms/step - loss: 0.0146 - accuracy: 0.9963 - val_loss: 0.3726 - val_accuracy: 0.9148\n",
      "Epoch 13/20\n",
      "76/76 [==============================] - 27s 358ms/step - loss: 0.0139 - accuracy: 0.9971 - val_loss: 0.3418 - val_accuracy: 0.9214\n",
      "Epoch 14/20\n",
      "76/76 [==============================] - 27s 358ms/step - loss: 0.0094 - accuracy: 0.9969 - val_loss: 0.4135 - val_accuracy: 0.9247\n",
      "Epoch 15/20\n",
      "76/76 [==============================] - 27s 359ms/step - loss: 0.0088 - accuracy: 0.9986 - val_loss: 0.3518 - val_accuracy: 0.9189\n",
      "Epoch 16/20\n",
      "76/76 [==============================] - 27s 359ms/step - loss: 0.0062 - accuracy: 0.9990 - val_loss: 0.3977 - val_accuracy: 0.9206\n",
      "Epoch 17/20\n",
      "76/76 [==============================] - 27s 357ms/step - loss: 0.0015 - accuracy: 0.9994 - val_loss: 0.4138 - val_accuracy: 0.9148\n",
      "Epoch 18/20\n",
      "76/76 [==============================] - 27s 356ms/step - loss: 0.0026 - accuracy: 0.9992 - val_loss: 0.3743 - val_accuracy: 0.9305\n",
      "Epoch 19/20\n",
      "76/76 [==============================] - 27s 359ms/step - loss: 0.0027 - accuracy: 0.9992 - val_loss: 0.4118 - val_accuracy: 0.9289\n",
      "Epoch 20/20\n",
      "76/76 [==============================] - 27s 357ms/step - loss: 0.0011 - accuracy: 0.9994 - val_loss: 0.5296 - val_accuracy: 0.9181\n"
     ]
    },
    {
     "data": {
      "text/plain": [
       "<keras.src.callbacks.History at 0x20f7f3dc9d0>"
      ]
     },
     "execution_count": 13,
     "metadata": {},
     "output_type": "execute_result"
    }
   ],
   "source": [
    "model.fit(x_train, y_train, validation_split=0.2, batch_size=64, epochs=20)\n"
   ]
  },
  {
   "cell_type": "code",
   "execution_count": 14,
   "id": "a41e5e6f",
   "metadata": {},
   "outputs": [
    {
     "name": "stdout",
     "output_type": "stream",
     "text": [
      "48/48 [==============================] - 2s 40ms/step\n"
     ]
    }
   ],
   "source": [
    "pred = model.predict(x_test)"
   ]
  },
  {
   "cell_type": "code",
   "execution_count": 15,
   "id": "e1686db4",
   "metadata": {},
   "outputs": [],
   "source": [
    "pred_classses=pred.argmax(axis=1)\n"
   ]
  },
  {
   "cell_type": "code",
   "execution_count": 16,
   "id": "f3c6e38e",
   "metadata": {},
   "outputs": [],
   "source": [
    "from sklearn.metrics import confusion_matrix,classification_report"
   ]
  },
  {
   "cell_type": "code",
   "execution_count": 17,
   "id": "d12b132b",
   "metadata": {},
   "outputs": [
    {
     "data": {
      "text/plain": [
       "array([[680,  42],\n",
       "       [ 84, 705]], dtype=int64)"
      ]
     },
     "execution_count": 17,
     "metadata": {},
     "output_type": "execute_result"
    }
   ],
   "source": [
    "confusion_matrix(y_test,pred_classses)"
   ]
  },
  {
   "cell_type": "code",
   "execution_count": 18,
   "id": "d4ba4e6f",
   "metadata": {},
   "outputs": [
    {
     "name": "stdout",
     "output_type": "stream",
     "text": [
      "              precision    recall  f1-score   support\n",
      "\n",
      "           0       0.89      0.94      0.92       722\n",
      "           1       0.94      0.89      0.92       789\n",
      "\n",
      "    accuracy                           0.92      1511\n",
      "   macro avg       0.92      0.92      0.92      1511\n",
      "weighted avg       0.92      0.92      0.92      1511\n",
      "\n"
     ]
    }
   ],
   "source": [
    "a=classification_report(y_test,pred_classses)\n",
    "print(a)"
   ]
  },
  {
   "cell_type": "code",
   "execution_count": 21,
   "id": "73f44bab",
   "metadata": {},
   "outputs": [
    {
     "name": "stderr",
     "output_type": "stream",
     "text": [
      "C:\\Users\\Anjaney Deshpande\\AppData\\Local\\Temp\\ipykernel_8984\\1857062916.py:3: UserWarning: You are saving your model as an HDF5 file via `model.save()`. This file format is considered legacy. We recommend using instead the native Keras format, e.g. `model.save('my_model.keras')`.\n",
      "  save_model(model, 'my_model2.h5')\n"
     ]
    }
   ],
   "source": [
    "from tensorflow.keras.models import load_model, save_model\n",
    "\n",
    "save_model(model, 'my_model2.h5')\n"
   ]
  },
  {
   "cell_type": "code",
   "execution_count": null,
   "id": "11342d5f",
   "metadata": {},
   "outputs": [],
   "source": []
  }
 ],
 "metadata": {
  "kernelspec": {
   "display_name": "Python 3 (ipykernel)",
   "language": "python",
   "name": "python3"
  },
  "language_info": {
   "codemirror_mode": {
    "name": "ipython",
    "version": 3
   },
   "file_extension": ".py",
   "mimetype": "text/x-python",
   "name": "python",
   "nbconvert_exporter": "python",
   "pygments_lexer": "ipython3",
   "version": "3.11.5"
  }
 },
 "nbformat": 4,
 "nbformat_minor": 5
}
